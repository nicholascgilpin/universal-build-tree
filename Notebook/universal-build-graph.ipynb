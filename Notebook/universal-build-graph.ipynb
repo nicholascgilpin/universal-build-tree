{
 "cells": [
  {
   "cell_type": "markdown",
   "metadata": {},
   "source": [
    "# universal-build-tree\n",
    "An open graph database describing the minimum resources and processes needed to build anything. \n",
    "\n",
    "## Usage Instructions\n",
    "1. Down load the repository\n",
    "1. Add the data to this folder\n",
    "1. Install Python dependencies\n",
    "1. Run"
   ]
  },
  {
   "cell_type": "code",
   "execution_count": null,
   "metadata": {},
   "outputs": [],
   "source": [
    "import networkx"
   ]
  },
  {
   "cell_type": "code",
   "execution_count": null,
   "metadata": {},
   "outputs": [],
   "source": [
    "def validate():\n",
    "    \"\"\" Validate the graph ontology schema. \"\"\"\n",
    "    pass\n",
    "\n",
    "def load():\n",
    "    \"\"\"Load data into a graph. \"\"\"\n",
    "    pass\n",
    "\n",
    "def save():\n",
    "    \"\"\"Persist data to file on disk. \"\"\"\n",
    "    pass\n",
    "\n",
    "def resource():\n",
    "    \"\"\"Add a resource node to the graph. \"\"\"\n",
    "    pass\n",
    "\n",
    "def process():\n",
    "    \"\"\"Add a process node to the graph. \"\"\"\n",
    "    pass\n",
    "\n",
    "def delete(id):\n",
    "    \"\"\"Remove a node or edge from the graph. \"\"\"\n",
    "    pass\n",
    "\n",
    "def view(resource, type):\n",
    "    \"\"\"Show some type of view of the graph. \"\"\"\n",
    "    pass"
   ]
  }
 ],
 "metadata": {
  "language_info": {
   "name": "python"
  },
  "orig_nbformat": 4
 },
 "nbformat": 4,
 "nbformat_minor": 2
}
